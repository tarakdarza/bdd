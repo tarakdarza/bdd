{
 "cells": [
  {
   "cell_type": "code",
   "execution_count": 154,
   "id": "198f4734",
   "metadata": {},
   "outputs": [
    {
     "name": "stdout",
     "output_type": "stream",
     "text": [
      "Requirement already satisfied: pandas in c:\\users\\tarak\\anaconda3\\lib\\site-packages (2.0.3)\n",
      "Requirement already satisfied: python-dateutil>=2.8.2 in c:\\users\\tarak\\anaconda3\\lib\\site-packages (from pandas) (2.8.2)\n",
      "Requirement already satisfied: pytz>=2020.1 in c:\\users\\tarak\\anaconda3\\lib\\site-packages (from pandas) (2023.3.post1)\n",
      "Requirement already satisfied: tzdata>=2022.1 in c:\\users\\tarak\\anaconda3\\lib\\site-packages (from pandas) (2023.3)\n",
      "Requirement already satisfied: numpy>=1.21.0 in c:\\users\\tarak\\anaconda3\\lib\\site-packages (from pandas) (1.24.3)\n",
      "Requirement already satisfied: six>=1.5 in c:\\users\\tarak\\anaconda3\\lib\\site-packages (from python-dateutil>=2.8.2->pandas) (1.16.0)\n"
     ]
    }
   ],
   "source": [
    "!pip install pandas\n"
   ]
  },
  {
   "cell_type": "code",
   "execution_count": 155,
   "id": "97485924",
   "metadata": {},
   "outputs": [],
   "source": [
    "import pandas as pd\n",
    "import numpy as np\n",
    "import seaborn as sns\n",
    "import matplotlib.pyplot as plt"
   ]
  },
  {
   "cell_type": "code",
   "execution_count": 156,
   "id": "f3847ddc",
   "metadata": {},
   "outputs": [],
   "source": [
    "df = pd.read_csv('Data.csv')\n"
   ]
  },
  {
   "cell_type": "code",
   "execution_count": 157,
   "id": "8935533c",
   "metadata": {},
   "outputs": [
    {
     "data": {
      "text/html": [
       "<div>\n",
       "<style scoped>\n",
       "    .dataframe tbody tr th:only-of-type {\n",
       "        vertical-align: middle;\n",
       "    }\n",
       "\n",
       "    .dataframe tbody tr th {\n",
       "        vertical-align: top;\n",
       "    }\n",
       "\n",
       "    .dataframe thead th {\n",
       "        text-align: right;\n",
       "    }\n",
       "</style>\n",
       "<table border=\"1\" class=\"dataframe\">\n",
       "  <thead>\n",
       "    <tr style=\"text-align: right;\">\n",
       "      <th></th>\n",
       "      <th>RowNumber</th>\n",
       "      <th>CustomerId</th>\n",
       "      <th>Surname</th>\n",
       "      <th>CreditScore</th>\n",
       "      <th>Geography</th>\n",
       "      <th>Gender</th>\n",
       "      <th>Age</th>\n",
       "      <th>Tenure</th>\n",
       "      <th>Balance</th>\n",
       "      <th>NumOfProducts</th>\n",
       "      <th>HasCrCard</th>\n",
       "      <th>IsActiveMember</th>\n",
       "      <th>EstimatedSalary</th>\n",
       "      <th>Exited</th>\n",
       "    </tr>\n",
       "  </thead>\n",
       "  <tbody>\n",
       "    <tr>\n",
       "      <th>0</th>\n",
       "      <td>1</td>\n",
       "      <td>15634602</td>\n",
       "      <td>Hargrave</td>\n",
       "      <td>619</td>\n",
       "      <td>France</td>\n",
       "      <td>Female</td>\n",
       "      <td>42</td>\n",
       "      <td>2</td>\n",
       "      <td>0.00</td>\n",
       "      <td>1</td>\n",
       "      <td>1</td>\n",
       "      <td>1</td>\n",
       "      <td>101348.88</td>\n",
       "      <td>1</td>\n",
       "    </tr>\n",
       "    <tr>\n",
       "      <th>1</th>\n",
       "      <td>2</td>\n",
       "      <td>15647311</td>\n",
       "      <td>Hill</td>\n",
       "      <td>608</td>\n",
       "      <td>Spain</td>\n",
       "      <td>Female</td>\n",
       "      <td>41</td>\n",
       "      <td>1</td>\n",
       "      <td>83807.86</td>\n",
       "      <td>1</td>\n",
       "      <td>0</td>\n",
       "      <td>1</td>\n",
       "      <td>112542.58</td>\n",
       "      <td>0</td>\n",
       "    </tr>\n",
       "    <tr>\n",
       "      <th>2</th>\n",
       "      <td>3</td>\n",
       "      <td>15619304</td>\n",
       "      <td>Onio</td>\n",
       "      <td>502</td>\n",
       "      <td>France</td>\n",
       "      <td>Female</td>\n",
       "      <td>42</td>\n",
       "      <td>8</td>\n",
       "      <td>159660.80</td>\n",
       "      <td>3</td>\n",
       "      <td>1</td>\n",
       "      <td>0</td>\n",
       "      <td>113931.57</td>\n",
       "      <td>1</td>\n",
       "    </tr>\n",
       "    <tr>\n",
       "      <th>3</th>\n",
       "      <td>4</td>\n",
       "      <td>15701354</td>\n",
       "      <td>Boni</td>\n",
       "      <td>699</td>\n",
       "      <td>France</td>\n",
       "      <td>Female</td>\n",
       "      <td>39</td>\n",
       "      <td>1</td>\n",
       "      <td>0.00</td>\n",
       "      <td>2</td>\n",
       "      <td>0</td>\n",
       "      <td>0</td>\n",
       "      <td>93826.63</td>\n",
       "      <td>0</td>\n",
       "    </tr>\n",
       "    <tr>\n",
       "      <th>4</th>\n",
       "      <td>5</td>\n",
       "      <td>15737888</td>\n",
       "      <td>Mitchell</td>\n",
       "      <td>850</td>\n",
       "      <td>Spain</td>\n",
       "      <td>Female</td>\n",
       "      <td>43</td>\n",
       "      <td>2</td>\n",
       "      <td>125510.82</td>\n",
       "      <td>1</td>\n",
       "      <td>1</td>\n",
       "      <td>1</td>\n",
       "      <td>79084.10</td>\n",
       "      <td>0</td>\n",
       "    </tr>\n",
       "  </tbody>\n",
       "</table>\n",
       "</div>"
      ],
      "text/plain": [
       "   RowNumber  CustomerId   Surname  CreditScore Geography  Gender  Age  \\\n",
       "0          1    15634602  Hargrave          619    France  Female   42   \n",
       "1          2    15647311      Hill          608     Spain  Female   41   \n",
       "2          3    15619304      Onio          502    France  Female   42   \n",
       "3          4    15701354      Boni          699    France  Female   39   \n",
       "4          5    15737888  Mitchell          850     Spain  Female   43   \n",
       "\n",
       "   Tenure    Balance  NumOfProducts  HasCrCard  IsActiveMember  \\\n",
       "0       2       0.00              1          1               1   \n",
       "1       1   83807.86              1          0               1   \n",
       "2       8  159660.80              3          1               0   \n",
       "3       1       0.00              2          0               0   \n",
       "4       2  125510.82              1          1               1   \n",
       "\n",
       "   EstimatedSalary  Exited  \n",
       "0        101348.88       1  \n",
       "1        112542.58       0  \n",
       "2        113931.57       1  \n",
       "3         93826.63       0  \n",
       "4         79084.10       0  "
      ]
     },
     "execution_count": 157,
     "metadata": {},
     "output_type": "execute_result"
    }
   ],
   "source": [
    "df.head()"
   ]
  },
  {
   "cell_type": "code",
   "execution_count": 158,
   "id": "e7083cfe",
   "metadata": {},
   "outputs": [
    {
     "name": "stdout",
     "output_type": "stream",
     "text": [
      "<class 'pandas.core.frame.DataFrame'>\n",
      "RangeIndex: 10000 entries, 0 to 9999\n",
      "Data columns (total 14 columns):\n",
      " #   Column           Non-Null Count  Dtype  \n",
      "---  ------           --------------  -----  \n",
      " 0   RowNumber        10000 non-null  int64  \n",
      " 1   CustomerId       10000 non-null  int64  \n",
      " 2   Surname          10000 non-null  object \n",
      " 3   CreditScore      10000 non-null  int64  \n",
      " 4   Geography        10000 non-null  object \n",
      " 5   Gender           10000 non-null  object \n",
      " 6   Age              10000 non-null  int64  \n",
      " 7   Tenure           10000 non-null  int64  \n",
      " 8   Balance          10000 non-null  float64\n",
      " 9   NumOfProducts    10000 non-null  int64  \n",
      " 10  HasCrCard        10000 non-null  int64  \n",
      " 11  IsActiveMember   10000 non-null  int64  \n",
      " 12  EstimatedSalary  10000 non-null  float64\n",
      " 13  Exited           10000 non-null  int64  \n",
      "dtypes: float64(2), int64(9), object(3)\n",
      "memory usage: 1.1+ MB\n"
     ]
    }
   ],
   "source": [
    "df.info()"
   ]
  },
  {
   "cell_type": "code",
   "execution_count": 159,
   "id": "a6a74963",
   "metadata": {},
   "outputs": [
    {
     "data": {
      "image/png": "[encoded data removed]",
      "text/plain": [
       "<Figure size 640x480 with 1 Axes>"
      ]
     },
     "metadata": {},
     "output_type": "display_data"
    }
   ],
   "source": [
    "sns.scatterplot(x='Balance',y='NumOfProducts',data=df,alpha=0.1,edgecolor=None);"
   ]
  },
  {
   "cell_type": "code",
   "execution_count": 160,
   "id": "e69c77f5",
   "metadata": {},
   "outputs": [
    {
     "data": {
      "image/png": "[encoded data removed]",
      "text/plain": [
       "<Figure size 1200x800 with 1 Axes>"
      ]
     },
     "metadata": {},
     "output_type": "display_data"
    }
   ],
   "source": [
    "plt.figure(figsize=(12,8))\n",
    "sns.scatterplot(x='Balance',y='NumOfProducts',data=df,alpha=0.1,edgecolor=None);"
   ]
  },
  {
   "cell_type": "code",
   "execution_count": 161,
   "id": "ff6c0006",
   "metadata": {},
   "outputs": [
    {
     "data": {
      "text/plain": [
       "<Axes: xlabel='Balance', ylabel='NumOfProducts'>"
      ]
     },
     "execution_count": 161,
     "metadata": {},
     "output_type": "execute_result"
    },
    {
     "data": {
      "image/png": "[encoded data removed]",
      "text/plain": [
       "<Figure size 640x480 with 1 Axes>"
      ]
     },
     "metadata": {},
     "output_type": "display_data"
    }
   ],
   "source": [
    "sns.scatterplot(x='Balance', y='NumOfProducts', hue='Gender', data=df, alpha=0.5)\n"
   ]
  },
  {
   "cell_type": "code",
   "execution_count": 162,
   "id": "d66e66c2",
   "metadata": {},
   "outputs": [
    {
     "data": {
      "text/plain": [
       "<Axes: xlabel='Balance', ylabel='NumOfProducts'>"
      ]
     },
     "execution_count": 162,
     "metadata": {},
     "output_type": "execute_result"
    },
    {
     "data": {
      "image/png": "[encoded data removed]",
      "text/plain": [
       "<Figure size 640x480 with 1 Axes>"
      ]
     },
     "metadata": {},
     "output_type": "display_data"
    }
   ],
   "source": [
    "sns.scatterplot(x='Balance', y='NumOfProducts', size='Age', data=df, alpha=0.5)\n"
   ]
  },
  {
   "cell_type": "code",
   "execution_count": 163,
   "id": "706b8978",
   "metadata": {},
   "outputs": [
    {
     "data": {
      "image/png": "[encoded data removed]",
      "text/plain": [
       "<Figure size 640x480 with 1 Axes>"
      ]
     },
     "metadata": {},
     "output_type": "display_data"
    }
   ],
   "source": [
    "sns.countplot(x='Geography',data=df);\n"
   ]
  },
  {
   "cell_type": "markdown",
   "id": "02a4761d",
   "metadata": {},
   "source": [
    "# Preparation des données :\n"
   ]
  },
  {
   "cell_type": "markdown",
   "id": "718fc9c9",
   "metadata": {},
   "source": [
    "## Je suis actuellement engagés dans une tâche de classification de données.\n",
    "\n",
    "## Plus précisément, je dispose  d'un ensemble de données comprenant plusieurs variables.\n",
    "\n",
    "## Mon objectif est de prédire si un client quittera ou non la banque dans les six prochains mois. \n",
    "\n",
    "## Cette tâche est essentielle pour anticiper les besoins de nos clients et prendre des mesures proactives pour les retenir.\n",
    "\n",
    "## Grâce à l'analyse de ces variables et à l'utilisation de techniques de classification,j'espérons développer un modèle qui nous aidera à mieux comprendre les facteurs qui influencent les décisions de départ de nos clients. \n",
    "\n",
    "## Ce qui permettra d'élaborer des stratégies visant à améliorer la rétention des clients et à renforcer notre relation avec eux."
   ]
  },
  {
   "cell_type": "markdown",
   "id": "c1e04a07",
   "metadata": {},
   "source": [
    "\n"
   ]
  },
  {
   "cell_type": "code",
   "execution_count": 164,
   "id": "f51dcfb9",
   "metadata": {},
   "outputs": [
    {
     "name": "stdout",
     "output_type": "stream",
     "text": [
      "[[619 'France' 'Female' ... 1 1 101348.88]\n",
      " [608 'Spain' 'Female' ... 0 1 112542.58]\n",
      " [502 'France' 'Female' ... 1 0 113931.57]\n",
      " ...\n",
      " [709 'France' 'Female' ... 0 1 42085.58]\n",
      " [772 'Germany' 'Male' ... 1 0 92888.52]\n",
      " [792 'France' 'Female' ... 1 0 38190.78]]\n",
      "object\n"
     ]
    }
   ],
   "source": [
    "x = df.iloc[:, 3:13].values\n",
    "print(x)\n",
    "# Utilisez l'attribut 'dtype' pour obtenir le type de données du tableau NumPy\n",
    "type_de_donnees = x.dtype\n",
    "\n",
    "print(type_de_donnees)\n"
   ]
  },
  {
   "cell_type": "code",
   "execution_count": 165,
   "id": "e125f752",
   "metadata": {},
   "outputs": [
    {
     "name": "stdout",
     "output_type": "stream",
     "text": [
      "Nombre de colonnes : 14\n"
     ]
    }
   ],
   "source": [
    "nombre_de_colonnes = df.shape[1]\n",
    "print(\"Nombre de colonnes :\", nombre_de_colonnes)\n"
   ]
  },
  {
   "cell_type": "code",
   "execution_count": 166,
   "id": "85da7d02",
   "metadata": {},
   "outputs": [
    {
     "name": "stdout",
     "output_type": "stream",
     "text": [
      "Nombre de colonnes : 10\n"
     ]
    }
   ],
   "source": [
    "nombre_de_colonnes = x.shape[1]\n",
    "print(\"Nombre de colonnes :\", nombre_de_colonnes)\n"
   ]
  },
  {
   "cell_type": "code",
   "execution_count": 167,
   "id": "f08c2914",
   "metadata": {},
   "outputs": [
    {
     "name": "stdout",
     "output_type": "stream",
     "text": [
      "0       1\n",
      "1       0\n",
      "2       1\n",
      "3       0\n",
      "4       0\n",
      "       ..\n",
      "9995    0\n",
      "9996    0\n",
      "9997    1\n",
      "9998    1\n",
      "9999    0\n",
      "Name: Exited, Length: 10000, dtype: int64\n"
     ]
    }
   ],
   "source": [
    "y = df.iloc[:, 13]\n",
    "print(y)"
   ]
  },
  {
   "cell_type": "raw",
   "id": "c65b61f7",
   "metadata": {},
   "source": []
  },
  {
   "cell_type": "markdown",
   "id": "aad9d129",
   "metadata": {
    "raw_mimetype": "text/markdown"
   },
   "source": [
    "# Les variables categorique "
   ]
  },
  {
   "cell_type": "code",
   "execution_count": 168,
   "id": "c43832ed",
   "metadata": {},
   "outputs": [],
   "source": [
    "from sklearn.preprocessing import LabelEncoder ,OneHotEncoder\n",
    "#L'encodage one-hot est utilisé lorsque on a des variables catégorielles sans relation ordonnée.\n",
    "# Il convertit chaque catégorie en un vecteur binaire\n",
    "\n",
    "LabelEncoder_x = LabelEncoder()\n",
    "\n",
    "x[:, 1] = LabelEncoder_X.fit_transform(x[:, 1])\n",
    "\n",
    "#créé une instance de LabelEncoder appelée LabelEncoder_x1 \"Geography\"\n",
    "#appliqué l'encodeur LabelEncoder_x1 à la deuxième colonne (indexée à 1) du tableau x en utilisant la méthode fit_transform.\n",
    "#modifier La colonne indexée à 1 de x pour contenir les valeurs numériques encodées à la place des valeurs originales.\n",
    "\n",
    "\n",
    "#pareil pour la 3 colonne \"Gender\"\n",
    "LabelEncoder_x2 = LabelEncoder()\n",
    "\n",
    "x[:, 2] = LabelEncoder_X.fit_transform(x[:, 2])"
   ]
  },
  {
   "cell_type": "code",
   "execution_count": 169,
   "id": "102467c3",
   "metadata": {},
   "outputs": [
    {
     "name": "stdout",
     "output_type": "stream",
     "text": [
      "[[619 0 0 42 2 0.0 1 1 1 101348.88]\n",
      " [608 2 0 41 1 83807.86 1 0 1 112542.58]\n",
      " [502 0 0 42 8 159660.8 3 1 0 113931.57]\n",
      " [699 0 0 39 1 0.0 2 0 0 93826.63]\n",
      " [850 2 0 43 2 125510.82 1 1 1 79084.1]]\n"
     ]
    }
   ],
   "source": [
    "# Affiche les 5 premières lignes du tableau x\n",
    "print(x[:5])\n"
   ]
  },
  {
   "cell_type": "code",
   "execution_count": 170,
   "id": "465a7ddc",
   "metadata": {},
   "outputs": [],
   "source": [
    "from sklearn.preprocessing import OneHotEncoder\n",
    "from sklearn.compose import ColumnTransformer\n",
    "\n",
    "categorical_columns = [1]\n",
    "\n",
    "# Créez un transformateur de colonnes\n",
    "column_transformer = ColumnTransformer(\n",
    "    transformers=[\n",
    "        ('onehot', OneHotEncoder(), categorical_columns)\n",
    "    ],\n",
    "    remainder='passthrough'  # Cela inclut les colonnes non spécifiées dans 'categorical_columns'\n",
    ")\n",
    "\n",
    "# Appliquez la transformation aux données 'x'\n",
    "x = column_transformer.fit_transform(x)\n",
    "\n",
    "\n",
    "#cette opération est que les colonnes catégorielles spécifiées sont converties en représentations one-hot,\n",
    "#ce qui signifie que chaque valeur catégorielle devient une colonne binaire avec des 0 et des 1 pour indiquer\n",
    "#la présence ou l'absence de chaque catégorie\n"
   ]
  },
  {
   "cell_type": "code",
   "execution_count": 171,
   "id": "3951b83b",
   "metadata": {},
   "outputs": [
    {
     "name": "stdout",
     "output_type": "stream",
     "text": [
      "[[1.0 0.0 0.0 619 0 42 2 0.0 1 1 1 101348.88]\n",
      " [0.0 0.0 1.0 608 0 41 1 83807.86 1 0 1 112542.58]\n",
      " [1.0 0.0 0.0 502 0 42 8 159660.8 3 1 0 113931.57]\n",
      " [1.0 0.0 0.0 699 0 39 1 0.0 2 0 0 93826.63]\n",
      " [0.0 0.0 1.0 850 0 43 2 125510.82 1 1 1 79084.1]]\n"
     ]
    }
   ],
   "source": [
    "# Affiche les 5 premières lignes du tableau x\n",
    "print(x[:5])"
   ]
  },
  {
   "cell_type": "code",
   "execution_count": 172,
   "id": "5fa4fceb",
   "metadata": {
    "scrolled": true
   },
   "outputs": [
    {
     "name": "stdout",
     "output_type": "stream",
     "text": [
      "object\n",
      "Le nombre de colonnes dans 'x' est : 12\n"
     ]
    }
   ],
   "source": [
    "# Utilisez l'attribut 'dtype' pour obtenir le type de données du tableau NumPy\n",
    "type_de_donnees = x.dtype\n",
    "\n",
    "print(type_de_donnees)\n",
    "\n",
    "nombre_de_colonnes = x.shape[1]\n",
    "\n",
    "print(\"Le nombre de colonnes dans 'x' est :\", nombre_de_colonnes)\n"
   ]
  },
  {
   "cell_type": "code",
   "execution_count": 173,
   "id": "20564075",
   "metadata": {},
   "outputs": [],
   "source": [
    "x = x[:, 1:]"
   ]
  },
  {
   "cell_type": "code",
   "execution_count": 174,
   "id": "075f3d3a",
   "metadata": {},
   "outputs": [
    {
     "name": "stdout",
     "output_type": "stream",
     "text": [
      "Le nombre de colonnes dans 'x' est : 11\n"
     ]
    }
   ],
   "source": [
    "import numpy as np\n",
    "\n",
    "# Vérifiez que x est un tableau NumPy\n",
    "if isinstance(x, np.ndarray):\n",
    "    # Vérifiez si x est multidimensionnel\n",
    "    if len(x.shape) > 1:\n",
    "        nombre_de_colonnes = x.shape[1]\n",
    "        print(\"Le nombre de colonnes dans 'x' est :\", nombre_de_colonnes)\n",
    "    else:\n",
    "        print(\"x n'est pas un tableau multidimensionnel.\")\n",
    "else:\n",
    "    print(\"x n'est pas un tableau NumPy valide.\")\n"
   ]
  },
  {
   "cell_type": "markdown",
   "id": "91c3ebb8",
   "metadata": {},
   "source": [
    "# Separation des jeux des données en Training et de test "
   ]
  },
  {
   "cell_type": "code",
   "execution_count": 175,
   "id": "55e2be7c",
   "metadata": {},
   "outputs": [],
   "source": [
    "#split dataset en : training et set de test\n",
    "from sklearn.model_selection import train_test_split\n",
    "\n",
    "# Utilisez maintenant train_test_split pour diviser votre ensemble de données en ensemble d'entraînement et ensemble de test\n",
    "X_train, X_test, y_train, y_test = train_test_split(x, y, test_size=0.2, random_state=42)\n",
    "\n"
   ]
  },
  {
   "cell_type": "code",
   "execution_count": 182,
   "id": "221a9492",
   "metadata": {},
   "outputs": [
    {
     "name": "stdout",
     "output_type": "stream",
     "text": [
      "(8000, 11)\n"
     ]
    }
   ],
   "source": [
    "taille_X_train = X_train.shape\n",
    "\n",
    "# Affiche la taille de X_train\n",
    "print(taille_X_train)\n"
   ]
  },
  {
   "cell_type": "code",
   "execution_count": 185,
   "id": "eec7e4b6",
   "metadata": {},
   "outputs": [
    {
     "name": "stdout",
     "output_type": "stream",
     "text": [
      "(2000, 11)\n"
     ]
    }
   ],
   "source": [
    "taille_X_test = X_test.shape\n",
    "\n",
    "# Affiche la taille de X_train\n",
    "print(taille_X_test)\n"
   ]
  },
  {
   "cell_type": "markdown",
   "id": "b242be78",
   "metadata": {},
   "source": [
    "# Mise a jour de lechelle des variables \"Normalisation\""
   ]
  },
  {
   "cell_type": "code",
   "execution_count": 186,
   "id": "15863524",
   "metadata": {},
   "outputs": [],
   "source": [
    "from sklearn.preprocessing import StandardScaler\n",
    "\n",
    "# Créez une instance de StandardScaler\n",
    "sc = StandardScaler()\n",
    "\n",
    "# Ajustez et transformez les données d'entraînement\n",
    "X_train = sc.fit_transform(X_train)\n",
    "\n",
    "# Transformez les données de test en utilisant les mêmes paramètres de normalisation\n",
    "X_test = sc.transform(X_test)\n",
    "\n"
   ]
  },
  {
   "cell_type": "markdown",
   "id": "70665e8c",
   "metadata": {},
   "source": [
    "# Construire le Reseau de neurones"
   ]
  },
  {
   "cell_type": "code",
   "execution_count": 187,
   "id": "70fea2e6",
   "metadata": {},
   "outputs": [
    {
     "name": "stdout",
     "output_type": "stream",
     "text": [
      "Requirement already satisfied: tensorflow in c:\\users\\tarak\\anaconda3\\lib\\site-packages (2.15.0)\n",
      "Requirement already satisfied: tensorflow-intel==2.15.0 in c:\\users\\tarak\\anaconda3\\lib\\site-packages (from tensorflow) (2.15.0)\n",
      "Requirement already satisfied: absl-py>=1.0.0 in c:\\users\\tarak\\anaconda3\\lib\\site-packages (from tensorflow-intel==2.15.0->tensorflow) (2.1.0)\n",
      "Requirement already satisfied: astunparse>=1.6.0 in c:\\users\\tarak\\anaconda3\\lib\\site-packages (from tensorflow-intel==2.15.0->tensorflow) (1.6.3)\n",
      "Requirement already satisfied: flatbuffers>=23.5.26 in c:\\users\\tarak\\anaconda3\\lib\\site-packages (from tensorflow-intel==2.15.0->tensorflow) (23.5.26)\n",
      "Requirement already satisfied: gast!=0.5.0,!=0.5.1,!=0.5.2,>=0.2.1 in c:\\users\\tarak\\anaconda3\\lib\\site-packages (from tensorflow-intel==2.15.0->tensorflow) (0.5.4)\n",
      "Requirement already satisfied: google-pasta>=0.1.1 in c:\\users\\tarak\\anaconda3\\lib\\site-packages (from tensorflow-intel==2.15.0->tensorflow) (0.2.0)\n",
      "Requirement already satisfied: h5py>=2.9.0 in c:\\users\\tarak\\anaconda3\\lib\\site-packages (from tensorflow-intel==2.15.0->tensorflow) (3.9.0)\n",
      "Requirement already satisfied: libclang>=13.0.0 in c:\\users\\tarak\\anaconda3\\lib\\site-packages (from tensorflow-intel==2.15.0->tensorflow) (16.0.6)\n",
      "Requirement already satisfied: ml-dtypes~=0.2.0 in c:\\users\\tarak\\anaconda3\\lib\\site-packages (from tensorflow-intel==2.15.0->tensorflow) (0.2.0)\n",
      "Requirement already satisfied: numpy<2.0.0,>=1.23.5 in c:\\users\\tarak\\anaconda3\\lib\\site-packages (from tensorflow-intel==2.15.0->tensorflow) (1.24.3)\n",
      "Requirement already satisfied: opt-einsum>=2.3.2 in c:\\users\\tarak\\anaconda3\\lib\\site-packages (from tensorflow-intel==2.15.0->tensorflow) (3.3.0)\n",
      "Requirement already satisfied: packaging in c:\\users\\tarak\\anaconda3\\lib\\site-packages (from tensorflow-intel==2.15.0->tensorflow) (23.1)\n",
      "Requirement already satisfied: protobuf!=4.21.0,!=4.21.1,!=4.21.2,!=4.21.3,!=4.21.4,!=4.21.5,<5.0.0dev,>=3.20.3 in c:\\users\\tarak\\anaconda3\\lib\\site-packages (from tensorflow-intel==2.15.0->tensorflow) (4.23.4)\n",
      "Requirement already satisfied: setuptools in c:\\users\\tarak\\anaconda3\\lib\\site-packages (from tensorflow-intel==2.15.0->tensorflow) (68.0.0)\n",
      "Requirement already satisfied: six>=1.12.0 in c:\\users\\tarak\\anaconda3\\lib\\site-packages (from tensorflow-intel==2.15.0->tensorflow) (1.16.0)\n",
      "Requirement already satisfied: termcolor>=1.1.0 in c:\\users\\tarak\\anaconda3\\lib\\site-packages (from tensorflow-intel==2.15.0->tensorflow) (2.4.0)\n",
      "Requirement already satisfied: typing-extensions>=3.6.6 in c:\\users\\tarak\\anaconda3\\lib\\site-packages (from tensorflow-intel==2.15.0->tensorflow) (4.7.1)\n",
      "Requirement already satisfied: wrapt<1.15,>=1.11.0 in c:\\users\\tarak\\anaconda3\\lib\\site-packages (from tensorflow-intel==2.15.0->tensorflow) (1.14.1)\n",
      "Requirement already satisfied: tensorflow-io-gcs-filesystem>=0.23.1 in c:\\users\\tarak\\anaconda3\\lib\\site-packages (from tensorflow-intel==2.15.0->tensorflow) (0.31.0)\n",
      "Requirement already satisfied: grpcio<2.0,>=1.24.3 in c:\\users\\tarak\\anaconda3\\lib\\site-packages (from tensorflow-intel==2.15.0->tensorflow) (1.60.0)\n",
      "Requirement already satisfied: tensorboard<2.16,>=2.15 in c:\\users\\tarak\\anaconda3\\lib\\site-packages (from tensorflow-intel==2.15.0->tensorflow) (2.15.1)\n",
      "Requirement already satisfied: tensorflow-estimator<2.16,>=2.15.0 in c:\\users\\tarak\\anaconda3\\lib\\site-packages (from tensorflow-intel==2.15.0->tensorflow) (2.15.0)\n",
      "Requirement already satisfied: keras<2.16,>=2.15.0 in c:\\users\\tarak\\anaconda3\\lib\\site-packages (from tensorflow-intel==2.15.0->tensorflow) (2.15.0)\n",
      "Requirement already satisfied: wheel<1.0,>=0.23.0 in c:\\users\\tarak\\anaconda3\\lib\\site-packages (from astunparse>=1.6.0->tensorflow-intel==2.15.0->tensorflow) (0.38.4)\n",
      "Requirement already satisfied: google-auth<3,>=1.6.3 in c:\\users\\tarak\\anaconda3\\lib\\site-packages (from tensorboard<2.16,>=2.15->tensorflow-intel==2.15.0->tensorflow) (2.26.2)\n",
      "Requirement already satisfied: google-auth-oauthlib<2,>=0.5 in c:\\users\\tarak\\anaconda3\\lib\\site-packages (from tensorboard<2.16,>=2.15->tensorflow-intel==2.15.0->tensorflow) (1.2.0)\n",
      "Requirement already satisfied: markdown>=2.6.8 in c:\\users\\tarak\\anaconda3\\lib\\site-packages (from tensorboard<2.16,>=2.15->tensorflow-intel==2.15.0->tensorflow) (3.4.1)\n",
      "Requirement already satisfied: requests<3,>=2.21.0 in c:\\users\\tarak\\anaconda3\\lib\\site-packages (from tensorboard<2.16,>=2.15->tensorflow-intel==2.15.0->tensorflow) (2.31.0)\n",
      "Requirement already satisfied: tensorboard-data-server<0.8.0,>=0.7.0 in c:\\users\\tarak\\anaconda3\\lib\\site-packages (from tensorboard<2.16,>=2.15->tensorflow-intel==2.15.0->tensorflow) (0.7.2)\n",
      "Requirement already satisfied: werkzeug>=1.0.1 in c:\\users\\tarak\\anaconda3\\lib\\site-packages (from tensorboard<2.16,>=2.15->tensorflow-intel==2.15.0->tensorflow) (2.2.3)\n",
      "Requirement already satisfied: cachetools<6.0,>=2.0.0 in c:\\users\\tarak\\anaconda3\\lib\\site-packages (from google-auth<3,>=1.6.3->tensorboard<2.16,>=2.15->tensorflow-intel==2.15.0->tensorflow) (5.3.2)\n",
      "Requirement already satisfied: pyasn1-modules>=0.2.1 in c:\\users\\tarak\\anaconda3\\lib\\site-packages (from google-auth<3,>=1.6.3->tensorboard<2.16,>=2.15->tensorflow-intel==2.15.0->tensorflow) (0.2.8)\n",
      "Requirement already satisfied: rsa<5,>=3.1.4 in c:\\users\\tarak\\anaconda3\\lib\\site-packages (from google-auth<3,>=1.6.3->tensorboard<2.16,>=2.15->tensorflow-intel==2.15.0->tensorflow) (4.9)\n",
      "Requirement already satisfied: requests-oauthlib>=0.7.0 in c:\\users\\tarak\\anaconda3\\lib\\site-packages (from google-auth-oauthlib<2,>=0.5->tensorboard<2.16,>=2.15->tensorflow-intel==2.15.0->tensorflow) (1.3.1)\n",
      "Requirement already satisfied: charset-normalizer<4,>=2 in c:\\users\\tarak\\anaconda3\\lib\\site-packages (from requests<3,>=2.21.0->tensorboard<2.16,>=2.15->tensorflow-intel==2.15.0->tensorflow) (2.0.4)\n",
      "Requirement already satisfied: idna<4,>=2.5 in c:\\users\\tarak\\anaconda3\\lib\\site-packages (from requests<3,>=2.21.0->tensorboard<2.16,>=2.15->tensorflow-intel==2.15.0->tensorflow) (3.4)\n",
      "Requirement already satisfied: urllib3<3,>=1.21.1 in c:\\users\\tarak\\anaconda3\\lib\\site-packages (from requests<3,>=2.21.0->tensorboard<2.16,>=2.15->tensorflow-intel==2.15.0->tensorflow) (1.26.16)\n",
      "Requirement already satisfied: certifi>=2017.4.17 in c:\\users\\tarak\\anaconda3\\lib\\site-packages (from requests<3,>=2.21.0->tensorboard<2.16,>=2.15->tensorflow-intel==2.15.0->tensorflow) (2023.11.17)\n",
      "Requirement already satisfied: MarkupSafe>=2.1.1 in c:\\users\\tarak\\anaconda3\\lib\\site-packages (from werkzeug>=1.0.1->tensorboard<2.16,>=2.15->tensorflow-intel==2.15.0->tensorflow) (2.1.1)\n",
      "Requirement already satisfied: pyasn1<0.5.0,>=0.4.6 in c:\\users\\tarak\\anaconda3\\lib\\site-packages (from pyasn1-modules>=0.2.1->google-auth<3,>=1.6.3->tensorboard<2.16,>=2.15->tensorflow-intel==2.15.0->tensorflow) (0.4.8)\n",
      "Requirement already satisfied: oauthlib>=3.0.0 in c:\\users\\tarak\\anaconda3\\lib\\site-packages (from requests-oauthlib>=0.7.0->google-auth-oauthlib<2,>=0.5->tensorboard<2.16,>=2.15->tensorflow-intel==2.15.0->tensorflow) (3.2.2)\n"
     ]
    }
   ],
   "source": [
    "!pip install tensorflow\n",
    "\n",
    "import keras\n",
    "from keras.models import Sequential\n",
    "from keras.layers import Dense"
   ]
  },
  {
   "cell_type": "markdown",
   "id": "4e87e8c7",
   "metadata": {},
   "source": [
    "# Initialisation"
   ]
  },
  {
   "cell_type": "code",
   "execution_count": 188,
   "id": "66509f59",
   "metadata": {},
   "outputs": [],
   "source": [
    "classifier = Sequential()"
   ]
  },
  {
   "cell_type": "code",
   "execution_count": 189,
   "id": "7d1f9bc0",
   "metadata": {},
   "outputs": [],
   "source": [
    "# ajout des couche : initial et 1 couche caché\n",
    "\n",
    "classifier.add(Dense (units=6,activation = \"relu\",kernel_initializer=\"uniform\",input_dim=11))\n",
    "\n",
    "# j'ai ajouté une couche Dense (entièrement connectée) avec 6 unités (neurones),\n",
    "# une fonction d'activation ReLU,\n",
    "# une initialisation de poids uniforme \n",
    "# une dimension d'entrée de 11 (c'est-à-dire que votre modèle attend des données d'entrée avec 11 caractéristiques).\n"
   ]
  },
  {
   "cell_type": "code",
   "execution_count": 190,
   "id": "ef08e156",
   "metadata": {},
   "outputs": [],
   "source": [
    "# ajouter une deusieme couche \n",
    "#pareil juste il faut supprimer le input_dim sur cette couche\n",
    "\n",
    "classifier.add(Dense (units=6,activation = \"relu\",kernel_initializer=\"uniform\"))"
   ]
  },
  {
   "cell_type": "markdown",
   "id": "ee85658c",
   "metadata": {},
   "source": [
    "On a maintenat nos trois coucher de reseaux de neurone :\n",
    "\n",
    "* une couche d'entré avec 11 variable ou 11 entré /neuronne \n",
    "\n",
    "* une Premier coucher avec 6 entré/neurone \n",
    "\n",
    "* une deuxieme couche aussi avec 6"
   ]
  },
  {
   "cell_type": "code",
   "execution_count": 191,
   "id": "481d77e9",
   "metadata": {},
   "outputs": [],
   "source": [
    "# Ajout de la couche de sortie \n",
    "# pareil comme les autres couche avec changement des parametres \n",
    "# la fonction sigmoïde est la fonction d'activation pour la couche de sortie du réseau de neurones\n",
    "# pour la classification binaire. Elle transforme la sortie de la dernière couche du réseau en une probabilité\n",
    "# dans l'intervalle [0, 1], permettant ainsi de prendre une décision sur la classe d'appartenance.\n",
    "# me permet de predire le pourcentage qun client quittera la banque ou non d(ans les 6 prochain mois )\n",
    "\n",
    "classifier.add(Dense (units=1,activation = \"sigmoid\",kernel_initializer=\"uniform\"))"
   ]
  },
  {
   "cell_type": "code",
   "execution_count": 192,
   "id": "41edd75e",
   "metadata": {},
   "outputs": [],
   "source": [
    "classifier.compile(optimizer=\"adam\",loss=\"binary_crossentropy\",metrics=[\"accuracy\"])"
   ]
  },
  {
   "cell_type": "markdown",
   "id": "cd9aad3e",
   "metadata": {},
   "source": [
    "# Entrainer le reseaux "
   ]
  },
  {
   "cell_type": "code",
   "execution_count": 204,
   "id": "20b2aad1",
   "metadata": {},
   "outputs": [
    {
     "name": "stdout",
     "output_type": "stream",
     "text": [
      "Epoch 1/100\n",
      "2000/2000 [==============================] - 6s 3ms/step - loss: 0.4049 - accuracy: 0.8341\n",
      "Epoch 2/100\n",
      "2000/2000 [==============================] - 6s 3ms/step - loss: 0.4029 - accuracy: 0.8361\n",
      "Epoch 3/100\n",
      "2000/2000 [==============================] - 6s 3ms/step - loss: 0.4021 - accuracy: 0.8359\n",
      "Epoch 4/100\n",
      "2000/2000 [==============================] - 6s 3ms/step - loss: 0.4030 - accuracy: 0.8366\n",
      "Epoch 5/100\n",
      "2000/2000 [==============================] - 6s 3ms/step - loss: 0.4023 - accuracy: 0.8344\n",
      "Epoch 6/100\n",
      "2000/2000 [==============================] - 8s 4ms/step - loss: 0.4022 - accuracy: 0.8378\n",
      "Epoch 7/100\n",
      "2000/2000 [==============================] - 6s 3ms/step - loss: 0.4029 - accuracy: 0.8347\n",
      "Epoch 8/100\n",
      "2000/2000 [==============================] - 7s 3ms/step - loss: 0.4019 - accuracy: 0.8360\n",
      "Epoch 9/100\n",
      "2000/2000 [==============================] - 6s 3ms/step - loss: 0.4027 - accuracy: 0.8349\n",
      "Epoch 10/100\n",
      "2000/2000 [==============================] - 6s 3ms/step - loss: 0.4026 - accuracy: 0.8346\n",
      "Epoch 11/100\n",
      "2000/2000 [==============================] - 8s 4ms/step - loss: 0.4031 - accuracy: 0.8361\n",
      "Epoch 12/100\n",
      "2000/2000 [==============================] - 6s 3ms/step - loss: 0.4026 - accuracy: 0.8359\n",
      "Epoch 13/100\n",
      "2000/2000 [==============================] - 7s 4ms/step - loss: 0.4025 - accuracy: 0.8367\n",
      "Epoch 14/100\n",
      "2000/2000 [==============================] - 7s 3ms/step - loss: 0.4030 - accuracy: 0.8361\n",
      "Epoch 15/100\n",
      "2000/2000 [==============================] - 8s 4ms/step - loss: 0.4025 - accuracy: 0.8351\n",
      "Epoch 16/100\n",
      "2000/2000 [==============================] - 8s 4ms/step - loss: 0.4020 - accuracy: 0.8338\n",
      "Epoch 17/100\n",
      "2000/2000 [==============================] - 7s 3ms/step - loss: 0.4025 - accuracy: 0.8355\n",
      "Epoch 18/100\n",
      "2000/2000 [==============================] - 7s 4ms/step - loss: 0.4027 - accuracy: 0.8350\n",
      "Epoch 19/100\n",
      "2000/2000 [==============================] - 6s 3ms/step - loss: 0.4026 - accuracy: 0.8370\n",
      "Epoch 20/100\n",
      "2000/2000 [==============================] - 7s 4ms/step - loss: 0.4025 - accuracy: 0.8371\n",
      "Epoch 21/100\n",
      "2000/2000 [==============================] - 6s 3ms/step - loss: 0.4022 - accuracy: 0.8365\n",
      "Epoch 22/100\n",
      "2000/2000 [==============================] - 7s 4ms/step - loss: 0.4016 - accuracy: 0.8355\n",
      "Epoch 23/100\n",
      "2000/2000 [==============================] - 6s 3ms/step - loss: 0.4023 - accuracy: 0.8357\n",
      "Epoch 24/100\n",
      "2000/2000 [==============================] - 5s 3ms/step - loss: 0.4021 - accuracy: 0.8353\n",
      "Epoch 25/100\n",
      "2000/2000 [==============================] - 7s 3ms/step - loss: 0.4029 - accuracy: 0.8364\n",
      "Epoch 26/100\n",
      "2000/2000 [==============================] - 7s 3ms/step - loss: 0.4023 - accuracy: 0.8354\n",
      "Epoch 27/100\n",
      "2000/2000 [==============================] - 7s 4ms/step - loss: 0.4014 - accuracy: 0.8349\n",
      "Epoch 28/100\n",
      "2000/2000 [==============================] - 7s 4ms/step - loss: 0.4025 - accuracy: 0.8365\n",
      "Epoch 29/100\n",
      "2000/2000 [==============================] - 7s 3ms/step - loss: 0.4021 - accuracy: 0.8360\n",
      "Epoch 30/100\n",
      "2000/2000 [==============================] - 7s 4ms/step - loss: 0.4022 - accuracy: 0.8365\n",
      "Epoch 31/100\n",
      "2000/2000 [==============================] - 6s 3ms/step - loss: 0.4015 - accuracy: 0.8361\n",
      "Epoch 32/100\n",
      "2000/2000 [==============================] - 8s 4ms/step - loss: 0.4015 - accuracy: 0.8357\n",
      "Epoch 33/100\n",
      "2000/2000 [==============================] - 7s 3ms/step - loss: 0.4014 - accuracy: 0.8365\n",
      "Epoch 34/100\n",
      "2000/2000 [==============================] - 8s 4ms/step - loss: 0.4019 - accuracy: 0.8360\n",
      "Epoch 35/100\n",
      "2000/2000 [==============================] - 7s 4ms/step - loss: 0.4014 - accuracy: 0.8369\n",
      "Epoch 36/100\n",
      "2000/2000 [==============================] - 7s 4ms/step - loss: 0.4010 - accuracy: 0.8365\n",
      "Epoch 37/100\n",
      "2000/2000 [==============================] - 7s 4ms/step - loss: 0.4015 - accuracy: 0.8357\n",
      "Epoch 38/100\n",
      "2000/2000 [==============================] - 7s 3ms/step - loss: 0.4011 - accuracy: 0.8376\n",
      "Epoch 39/100\n",
      "2000/2000 [==============================] - 7s 4ms/step - loss: 0.4008 - accuracy: 0.8365\n",
      "Epoch 40/100\n",
      "2000/2000 [==============================] - 6s 3ms/step - loss: 0.4013 - accuracy: 0.8379\n",
      "Epoch 41/100\n",
      "2000/2000 [==============================] - 8s 4ms/step - loss: 0.4012 - accuracy: 0.8365\n",
      "Epoch 42/100\n",
      "2000/2000 [==============================] - 7s 3ms/step - loss: 0.4011 - accuracy: 0.8370\n",
      "Epoch 43/100\n",
      "2000/2000 [==============================] - 7s 4ms/step - loss: 0.4010 - accuracy: 0.8361\n",
      "Epoch 44/100\n",
      "2000/2000 [==============================] - 8s 4ms/step - loss: 0.4013 - accuracy: 0.8354\n",
      "Epoch 45/100\n",
      "2000/2000 [==============================] - 6s 3ms/step - loss: 0.4009 - accuracy: 0.8367\n",
      "Epoch 46/100\n",
      "2000/2000 [==============================] - 6s 3ms/step - loss: 0.4013 - accuracy: 0.8357\n",
      "Epoch 47/100\n",
      "2000/2000 [==============================] - 5s 3ms/step - loss: 0.4006 - accuracy: 0.8372\n",
      "Epoch 48/100\n",
      "2000/2000 [==============================] - 6s 3ms/step - loss: 0.4008 - accuracy: 0.8369\n",
      "Epoch 49/100\n",
      "2000/2000 [==============================] - 6s 3ms/step - loss: 0.4007 - accuracy: 0.8376\n",
      "Epoch 50/100\n",
      "2000/2000 [==============================] - 5s 3ms/step - loss: 0.4006 - accuracy: 0.8351\n",
      "Epoch 51/100\n",
      "2000/2000 [==============================] - 7s 3ms/step - loss: 0.4006 - accuracy: 0.8366\n",
      "Epoch 52/100\n",
      "2000/2000 [==============================] - 6s 3ms/step - loss: 0.4008 - accuracy: 0.8366\n",
      "Epoch 53/100\n",
      "2000/2000 [==============================] - 5s 3ms/step - loss: 0.4010 - accuracy: 0.8359\n",
      "Epoch 54/100\n",
      "2000/2000 [==============================] - 6s 3ms/step - loss: 0.4005 - accuracy: 0.8375\n",
      "Epoch 55/100\n",
      "2000/2000 [==============================] - 6s 3ms/step - loss: 0.4004 - accuracy: 0.8370\n",
      "Epoch 56/100\n",
      "2000/2000 [==============================] - 6s 3ms/step - loss: 0.4007 - accuracy: 0.8372\n",
      "Epoch 57/100\n",
      "2000/2000 [==============================] - 7s 3ms/step - loss: 0.4006 - accuracy: 0.8356\n",
      "Epoch 58/100\n",
      "2000/2000 [==============================] - 6s 3ms/step - loss: 0.3999 - accuracy: 0.8360\n",
      "Epoch 59/100\n",
      "2000/2000 [==============================] - 9s 4ms/step - loss: 0.4004 - accuracy: 0.8365\n",
      "Epoch 60/100\n",
      "2000/2000 [==============================] - 6s 3ms/step - loss: 0.4004 - accuracy: 0.8375\n",
      "Epoch 61/100\n",
      "2000/2000 [==============================] - 8s 4ms/step - loss: 0.4005 - accuracy: 0.8375\n",
      "Epoch 62/100\n",
      "2000/2000 [==============================] - 7s 4ms/step - loss: 0.4005 - accuracy: 0.8347\n",
      "Epoch 63/100\n",
      "2000/2000 [==============================] - 6s 3ms/step - loss: 0.4003 - accuracy: 0.8380\n",
      "Epoch 64/100\n",
      "2000/2000 [==============================] - 8s 4ms/step - loss: 0.3994 - accuracy: 0.8388\n",
      "Epoch 65/100\n",
      "2000/2000 [==============================] - 7s 4ms/step - loss: 0.3999 - accuracy: 0.8353\n",
      "Epoch 66/100\n",
      "2000/2000 [==============================] - 7s 4ms/step - loss: 0.4003 - accuracy: 0.8359\n",
      "Epoch 67/100\n",
      "2000/2000 [==============================] - 6s 3ms/step - loss: 0.4001 - accuracy: 0.8371\n",
      "Epoch 68/100\n",
      "2000/2000 [==============================] - 7s 4ms/step - loss: 0.3998 - accuracy: 0.8378\n",
      "Epoch 69/100\n",
      "2000/2000 [==============================] - 6s 3ms/step - loss: 0.3999 - accuracy: 0.8370\n",
      "Epoch 70/100\n",
      "2000/2000 [==============================] - 7s 3ms/step - loss: 0.4001 - accuracy: 0.8371\n",
      "Epoch 71/100\n",
      "2000/2000 [==============================] - 8s 4ms/step - loss: 0.4004 - accuracy: 0.8374\n",
      "Epoch 72/100\n",
      "2000/2000 [==============================] - 12s 6ms/step - loss: 0.3997 - accuracy: 0.8395\n",
      "Epoch 73/100\n",
      "2000/2000 [==============================] - 11s 5ms/step - loss: 0.3997 - accuracy: 0.8360\n",
      "Epoch 74/100\n",
      "2000/2000 [==============================] - 12s 6ms/step - loss: 0.3996 - accuracy: 0.8384\n",
      "Epoch 75/100\n",
      "2000/2000 [==============================] - 13s 6ms/step - loss: 0.4000 - accuracy: 0.8376\n",
      "Epoch 76/100\n",
      "2000/2000 [==============================] - 11s 6ms/step - loss: 0.3991 - accuracy: 0.8381\n",
      "Epoch 77/100\n",
      "2000/2000 [==============================] - 11s 6ms/step - loss: 0.3996 - accuracy: 0.8388\n",
      "Epoch 78/100\n",
      "2000/2000 [==============================] - 12s 6ms/step - loss: 0.3992 - accuracy: 0.8369\n",
      "Epoch 79/100\n"
     ]
    },
    {
     "name": "stdout",
     "output_type": "stream",
     "text": [
      "2000/2000 [==============================] - 13s 6ms/step - loss: 0.3991 - accuracy: 0.8361\n",
      "Epoch 80/100\n",
      "2000/2000 [==============================] - 11s 6ms/step - loss: 0.3993 - accuracy: 0.8366\n",
      "Epoch 81/100\n",
      "2000/2000 [==============================] - 11s 5ms/step - loss: 0.3996 - accuracy: 0.8366\n",
      "Epoch 82/100\n",
      "2000/2000 [==============================] - 13s 6ms/step - loss: 0.3990 - accuracy: 0.8374\n",
      "Epoch 83/100\n",
      "2000/2000 [==============================] - 12s 6ms/step - loss: 0.3989 - accuracy: 0.8390\n",
      "Epoch 84/100\n",
      "2000/2000 [==============================] - 11s 6ms/step - loss: 0.3994 - accuracy: 0.8378\n",
      "Epoch 85/100\n",
      "2000/2000 [==============================] - 11s 6ms/step - loss: 0.3992 - accuracy: 0.8367\n",
      "Epoch 86/100\n",
      "2000/2000 [==============================] - 13s 7ms/step - loss: 0.3989 - accuracy: 0.8395\n",
      "Epoch 87/100\n",
      "2000/2000 [==============================] - 12s 6ms/step - loss: 0.3991 - accuracy: 0.8379\n",
      "Epoch 88/100\n",
      "2000/2000 [==============================] - 10s 5ms/step - loss: 0.3986 - accuracy: 0.8375\n",
      "Epoch 89/100\n",
      "2000/2000 [==============================] - 12s 6ms/step - loss: 0.3989 - accuracy: 0.8388\n",
      "Epoch 90/100\n",
      "2000/2000 [==============================] - 13s 6ms/step - loss: 0.3989 - accuracy: 0.8390\n",
      "Epoch 91/100\n",
      "2000/2000 [==============================] - 12s 6ms/step - loss: 0.3990 - accuracy: 0.8376\n",
      "Epoch 92/100\n",
      "2000/2000 [==============================] - 12s 6ms/step - loss: 0.3989 - accuracy: 0.8379\n",
      "Epoch 93/100\n",
      "2000/2000 [==============================] - 12s 6ms/step - loss: 0.3986 - accuracy: 0.8363\n",
      "Epoch 94/100\n",
      "2000/2000 [==============================] - 13s 6ms/step - loss: 0.3989 - accuracy: 0.8375\n",
      "Epoch 95/100\n",
      "2000/2000 [==============================] - 11s 6ms/step - loss: 0.3990 - accuracy: 0.8379\n",
      "Epoch 96/100\n",
      "2000/2000 [==============================] - 9s 4ms/step - loss: 0.3991 - accuracy: 0.8374\n",
      "Epoch 97/100\n",
      "2000/2000 [==============================] - 11s 5ms/step - loss: 0.3984 - accuracy: 0.8382\n",
      "Epoch 98/100\n",
      "2000/2000 [==============================] - 13s 7ms/step - loss: 0.3987 - accuracy: 0.8363\n",
      "Epoch 99/100\n",
      "2000/2000 [==============================] - 14s 7ms/step - loss: 0.3988 - accuracy: 0.8382\n",
      "Epoch 100/100\n",
      "2000/2000 [==============================] - 13s 6ms/step - loss: 0.3983 - accuracy: 0.8374\n"
     ]
    },
    {
     "data": {
      "text/plain": [
       "<keras.src.callbacks.History at 0x23e7a0d3f10>"
      ]
     },
     "execution_count": 204,
     "metadata": {},
     "output_type": "execute_result"
    }
   ],
   "source": [
    "classifier.fit(X_train,y_train ,batch_size=4 ,epochs=100)"
   ]
  },
  {
   "cell_type": "markdown",
   "id": "b0af4a47",
   "metadata": {},
   "source": [
    "# Prediction des données de test "
   ]
  },
  {
   "cell_type": "code",
   "execution_count": 205,
   "id": "83b42d97",
   "metadata": {},
   "outputs": [
    {
     "name": "stdout",
     "output_type": "stream",
     "text": [
      "63/63 [==============================] - 0s 2ms/step\n"
     ]
    }
   ],
   "source": [
    "y_pred =classifier.predict(X_test)"
   ]
  },
  {
   "cell_type": "code",
   "execution_count": 206,
   "id": "7e67cf16",
   "metadata": {},
   "outputs": [
    {
     "name": "stdout",
     "output_type": "stream",
     "text": [
      "[[0.05531289]\n",
      " [0.10842133]\n",
      " [0.3559469 ]\n",
      " ...\n",
      " [0.4880336 ]\n",
      " [0.02667634]\n",
      " [0.1851243 ]]\n"
     ]
    }
   ],
   "source": [
    "print(y_pred)"
   ]
  },
  {
   "cell_type": "code",
   "execution_count": 207,
   "id": "ce789685",
   "metadata": {},
   "outputs": [],
   "source": [
    "#on prend le seuil de 50% pour dire si le client va quitter ou pas \n",
    "# sile prob est superieur à 50 ===> quitter = false \n",
    "y_pred = (y_pred >0.5)"
   ]
  },
  {
   "cell_type": "code",
   "execution_count": 208,
   "id": "87bc7629",
   "metadata": {},
   "outputs": [
    {
     "name": "stdout",
     "output_type": "stream",
     "text": [
      "[[False]\n",
      " [False]\n",
      " [False]\n",
      " ...\n",
      " [False]\n",
      " [False]\n",
      " [False]]\n"
     ]
    }
   ],
   "source": [
    "print(y_pred)"
   ]
  },
  {
   "cell_type": "code",
   "execution_count": 209,
   "id": "9380467c",
   "metadata": {},
   "outputs": [],
   "source": [
    "from sklearn.metrics import confusion_matrix"
   ]
  },
  {
   "cell_type": "code",
   "execution_count": 210,
   "id": "5687be1f",
   "metadata": {},
   "outputs": [],
   "source": [
    "cm = confusion_matrix(y_test,y_pred)"
   ]
  },
  {
   "cell_type": "code",
   "execution_count": 211,
   "id": "bfefd7fd",
   "metadata": {},
   "outputs": [
    {
     "name": "stdout",
     "output_type": "stream",
     "text": [
      "[[1567   40]\n",
      " [ 273  120]]\n"
     ]
    }
   ],
   "source": [
    "print (cm)"
   ]
  },
  {
   "cell_type": "markdown",
   "id": "e9132294",
   "metadata": {},
   "source": [
    "* Les éléments diagonaux représentent les valeurs correctement prédites, \n",
    "    * c'est-à-dire les vrais positifs (TP) et les vrais négatifs (TN). \n",
    "    \n",
    "    \n",
    "* Les éléments en dehors de la diagonale représentent les erreurs de classification :\n",
    "    * Les faux positifs (FP) se trouvent dans la première colonne en dehors de la diagonale.\n",
    "    * Les faux négatifs (FN) se trouvent dans la deuxième colonne en dehors de la diagonale.\n",
    "    \n",
    "   ## on a ici 1567+40 qui sont correct\n",
    "   ## et 273 +120 :incorrect\n",
    "   \n",
    "  \n",
    " "
   ]
  },
  {
   "cell_type": "code",
   "execution_count": 212,
   "id": "b5589c1b",
   "metadata": {},
   "outputs": [
    {
     "data": {
      "text/plain": [
       "0.836"
      ]
     },
     "execution_count": 212,
     "metadata": {},
     "output_type": "execute_result"
    }
   ],
   "source": [
    "(1544+128)/2000"
   ]
  },
  {
   "cell_type": "markdown",
   "id": "4b2690c9",
   "metadata": {},
   "source": [
    "# Mise en place et predictio"
   ]
  },
  {
   "cell_type": "markdown",
   "id": "155927cc",
   "metadata": {},
   "source": [
    "Utilisez le réseau de neurones pour prédire si le client suivant va ou non quitter la banque dans les 6 mois :\n",
    "\n",
    "Pays : France \n",
    "\n",
    "Score de crédit : 600 \n",
    "\n",
    "Genre : Masculin \n",
    "\n",
    "Âge : 40 ans \n",
    "\n",
    "Durée depuis entrée dans la banque : 3 ans\n",
    "\n",
    "Balance : 60000 € \n",
    "\n",
    "Nombre de produits : 2 \n",
    "\n",
    "Carte de crédit ? Oui \n",
    "\n",
    "Membre actif ? : Oui \n",
    "\n",
    "Salaire estimé : 50000 € \n",
    "\n",
    "Devrait-on dire au revoir à ce client ? \n",
    "\n",
    "\n"
   ]
  },
  {
   "cell_type": "code",
   "execution_count": 214,
   "id": "8d02323e",
   "metadata": {},
   "outputs": [
    {
     "name": "stdout",
     "output_type": "stream",
     "text": [
      "1/1 [==============================] - 0s 58ms/step\n"
     ]
    }
   ],
   "source": [
    "new_prediction = classifier.predict(sc.transform (np.array([[0.0,0,600,0,40,3,60000,2,1,1,50000]])))\n",
    "new_prediction = (new_prediction>0.5)                                  "
   ]
  },
  {
   "cell_type": "code",
   "execution_count": 215,
   "id": "3de7f444",
   "metadata": {},
   "outputs": [
    {
     "name": "stdout",
     "output_type": "stream",
     "text": [
      "[[False]]\n"
     ]
    }
   ],
   "source": [
    "print(new_prediction)"
   ]
  },
  {
   "cell_type": "code",
   "execution_count": null,
   "id": "202eda39",
   "metadata": {},
   "outputs": [],
   "source": []
  }
 ],
 "metadata": {
  "celltoolbar": "Format de la Cellule Texte Brut",
  "kernelspec": {
   "display_name": "Python 3 (ipykernel)",
   "language": "python",
   "name": "python3"
  },
  "language_info": {
   "codemirror_mode": {
    "name": "ipython",
    "version": 3
   },
   "file_extension": ".py",
   "mimetype": "text/x-python",
   "name": "python",
   "nbconvert_exporter": "python",
   "pygments_lexer": "ipython3",
   "version": "3.11.5"
  }
 },
 "nbformat": 4,
 "nbformat_minor": 5
}
